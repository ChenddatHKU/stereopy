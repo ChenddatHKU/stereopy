{
 "cells": [
  {
   "cell_type": "code",
   "execution_count": 12,
   "id": "9440fb46",
   "metadata": {},
   "outputs": [],
   "source": [
    "import sys\n",
    "sys.path.append('D:/projects/stereopy/')\n",
    "import pandas as pd\n",
    "from stereo.io.reader import read_stereo\n",
    "# import panel as pn\n",
    "# from stereo.plots.interactive_scatter import InteractiveScatter"
   ]
  },
  {
   "cell_type": "code",
   "execution_count": 10,
   "id": "660533ac",
   "metadata": {},
   "outputs": [],
   "source": [
    "gem = 'D:\\\\projects\\\\data\\\\st_demo\\\\DP8400013846TR_F5.gem'\n",
    "# data = read_stereo(gem, 'bins', 5)\n",
    "data = read_stereo(gem, 'bins', 100)"
   ]
  },
  {
   "cell_type": "code",
   "execution_count": 4,
   "id": "52fe302f",
   "metadata": {},
   "outputs": [],
   "source": [
    "# data.interact_scatter(inline=True).figure"
   ]
  },
  {
   "cell_type": "code",
   "execution_count": 3,
   "id": "1dcfb578",
   "metadata": {},
   "outputs": [],
   "source": [
    "inter_s = data.interact_scatter(inline=True)"
   ]
  },
  {
   "cell_type": "code",
   "execution_count": 1,
   "id": "a738b73f",
   "metadata": {},
   "outputs": [],
   "source": [
    "inter_s.figure"
   ]
  },
  {
   "cell_type": "code",
   "execution_count": 5,
   "id": "87fd86b4",
   "metadata": {},
   "outputs": [],
   "source": [
    "# inter_s.selected_exp_data"
   ]
  },
  {
   "cell_type": "code",
   "execution_count": 8,
   "id": "209d74a0",
   "metadata": {},
   "outputs": [],
   "source": [
    "# inter_s.selected_exp_data.cell_names.shape"
   ]
  },
  {
   "cell_type": "code",
   "execution_count": 9,
   "id": "3f202f09",
   "metadata": {},
   "outputs": [],
   "source": [
    "# data.exp_matrix.shape"
   ]
  }
 ],
 "metadata": {
  "kernelspec": {
   "display_name": "Python 3",
   "language": "python",
   "name": "python3"
  },
  "language_info": {
   "codemirror_mode": {
    "name": "ipython",
    "version": 3
   },
   "file_extension": ".py",
   "mimetype": "text/x-python",
   "name": "python",
   "nbconvert_exporter": "python",
   "pygments_lexer": "ipython3",
   "version": "3.8.5"
  },
  "toc": {
   "base_numbering": 1,
   "nav_menu": {},
   "number_sections": true,
   "sideBar": true,
   "skip_h1_title": false,
   "title_cell": "Table of Contents",
   "title_sidebar": "Contents",
   "toc_cell": false,
   "toc_position": {},
   "toc_section_display": true,
   "toc_window_display": false
  }
 },
 "nbformat": 4,
 "nbformat_minor": 5
}
