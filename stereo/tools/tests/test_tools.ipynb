{
 "cells": [
  {
   "cell_type": "code",
   "execution_count": 3,
   "metadata": {
    "collapsed": true,
    "pycharm": {
     "is_executing": false
    }
   },
   "outputs": [],
   "source": [
    "import numpy as np\n",
    "import pandas as pd\n",
    "from stereo.tools.dim_reduce import DimReduce\n",
    "from stereo.tools.clustering import Clustering\n",
    "from stereo.tools.find_markers import FindMarker\n",
    "from anndata import AnnData"
   ]
  },
  {
   "cell_type": "code",
   "execution_count": 4,
   "outputs": [],
   "source": [
    "data = pd.read_csv('D:\\projects\\data\\sem.csv', index_col=[0])\n"
   ],
   "metadata": {
    "collapsed": false,
    "pycharm": {
     "name": "#%%\n",
     "is_executing": false
    }
   }
  },
  {
   "cell_type": "code",
   "execution_count": 5,
   "outputs": [
    {
     "data": {
      "text/plain": "         Gm10604  Mnt  Defb48  Gm17529  AC098883.2  Ppp1r16a  Tab2  Cd109  \\\n756-657      0.0  0.0     0.0      0.0         0.0       0.0   0.0    0.0   \n792-671      0.0  0.0     0.0      0.0         0.0       1.0   0.0    1.0   \n758-670      1.0  0.0     0.0      0.0         0.0       0.0   0.0    0.0   \n767-674      0.0  0.0     0.0      0.0         0.0       0.0   0.0    0.0   \n758-704      0.0  0.0     0.0      0.0         0.0       0.0   0.0    0.0   \n...          ...  ...     ...      ...         ...       ...   ...    ...   \n814-683      0.0  0.0     0.0      0.0         0.0       0.0   0.0    0.0   \n783-671      0.0  0.0     0.0      0.0         0.0       0.0   0.0    0.0   \n810-676      0.0  1.0     0.0      1.0         0.0       0.0   0.0    0.0   \n767-668      0.0  0.0     0.0      0.0         0.0       2.0   1.0    0.0   \n812-659      0.0  0.0     0.0      0.0         0.0       0.0   0.0    0.0   \n\n         Tspan33  AC117232.1  ...  Gm30043  Trim21  Tmem132a  Mcph1  Pla1a  \\\n756-657      0.0         0.0  ...      0.0     0.0       0.0    0.0    0.0   \n792-671      0.0         0.0  ...      0.0     0.0       0.0    2.0    0.0   \n758-670      0.0         0.0  ...      0.0     0.0       0.0    1.0    0.0   \n767-674      0.0         0.0  ...      0.0     0.0       0.0    1.0    0.0   \n758-704      0.0         0.0  ...      0.0     0.0       0.0    0.0    0.0   \n...          ...         ...  ...      ...     ...       ...    ...    ...   \n814-683      0.0         0.0  ...      0.0     0.0       0.0    0.0    0.0   \n783-671      0.0         0.0  ...      0.0     0.0       0.0    1.0    0.0   \n810-676      0.0         0.0  ...      0.0     0.0       0.0    0.0    0.0   \n767-668      0.0         0.0  ...      0.0     0.0       0.0    2.0    0.0   \n812-659      2.0         0.0  ...      0.0     0.0       0.0    0.0    0.0   \n\n         A230083G16Rik  Zwint  Pex7  Rnf133  Tada2a  \n756-657            0.0    0.0   0.0     0.0     0.0  \n792-671            0.0    8.0   0.0     0.0     0.0  \n758-670            0.0    1.0   0.0     0.0     0.0  \n767-674            0.0    3.0   0.0     0.0     1.0  \n758-704            0.0    1.0   0.0     0.0     0.0  \n...                ...    ...   ...     ...     ...  \n814-683            0.0    0.0   0.0     0.0     0.0  \n783-671            0.0    1.0   0.0     0.0     0.0  \n810-676            0.0    3.0   0.0     0.0     0.0  \n767-668            0.0    6.0   0.0     0.0     1.0  \n812-659            0.0    0.0   0.0     0.0     1.0  \n\n[99 rows x 28553 columns]",
      "text/html": "<div>\n<style scoped>\n    .dataframe tbody tr th:only-of-type {\n        vertical-align: middle;\n    }\n\n    .dataframe tbody tr th {\n        vertical-align: top;\n    }\n\n    .dataframe thead th {\n        text-align: right;\n    }\n</style>\n<table border=\"1\" class=\"dataframe\">\n  <thead>\n    <tr style=\"text-align: right;\">\n      <th></th>\n      <th>Gm10604</th>\n      <th>Mnt</th>\n      <th>Defb48</th>\n      <th>Gm17529</th>\n      <th>AC098883.2</th>\n      <th>Ppp1r16a</th>\n      <th>Tab2</th>\n      <th>Cd109</th>\n      <th>Tspan33</th>\n      <th>AC117232.1</th>\n      <th>...</th>\n      <th>Gm30043</th>\n      <th>Trim21</th>\n      <th>Tmem132a</th>\n      <th>Mcph1</th>\n      <th>Pla1a</th>\n      <th>A230083G16Rik</th>\n      <th>Zwint</th>\n      <th>Pex7</th>\n      <th>Rnf133</th>\n      <th>Tada2a</th>\n    </tr>\n  </thead>\n  <tbody>\n    <tr>\n      <th>756-657</th>\n      <td>0.0</td>\n      <td>0.0</td>\n      <td>0.0</td>\n      <td>0.0</td>\n      <td>0.0</td>\n      <td>0.0</td>\n      <td>0.0</td>\n      <td>0.0</td>\n      <td>0.0</td>\n      <td>0.0</td>\n      <td>...</td>\n      <td>0.0</td>\n      <td>0.0</td>\n      <td>0.0</td>\n      <td>0.0</td>\n      <td>0.0</td>\n      <td>0.0</td>\n      <td>0.0</td>\n      <td>0.0</td>\n      <td>0.0</td>\n      <td>0.0</td>\n    </tr>\n    <tr>\n      <th>792-671</th>\n      <td>0.0</td>\n      <td>0.0</td>\n      <td>0.0</td>\n      <td>0.0</td>\n      <td>0.0</td>\n      <td>1.0</td>\n      <td>0.0</td>\n      <td>1.0</td>\n      <td>0.0</td>\n      <td>0.0</td>\n      <td>...</td>\n      <td>0.0</td>\n      <td>0.0</td>\n      <td>0.0</td>\n      <td>2.0</td>\n      <td>0.0</td>\n      <td>0.0</td>\n      <td>8.0</td>\n      <td>0.0</td>\n      <td>0.0</td>\n      <td>0.0</td>\n    </tr>\n    <tr>\n      <th>758-670</th>\n      <td>1.0</td>\n      <td>0.0</td>\n      <td>0.0</td>\n      <td>0.0</td>\n      <td>0.0</td>\n      <td>0.0</td>\n      <td>0.0</td>\n      <td>0.0</td>\n      <td>0.0</td>\n      <td>0.0</td>\n      <td>...</td>\n      <td>0.0</td>\n      <td>0.0</td>\n      <td>0.0</td>\n      <td>1.0</td>\n      <td>0.0</td>\n      <td>0.0</td>\n      <td>1.0</td>\n      <td>0.0</td>\n      <td>0.0</td>\n      <td>0.0</td>\n    </tr>\n    <tr>\n      <th>767-674</th>\n      <td>0.0</td>\n      <td>0.0</td>\n      <td>0.0</td>\n      <td>0.0</td>\n      <td>0.0</td>\n      <td>0.0</td>\n      <td>0.0</td>\n      <td>0.0</td>\n      <td>0.0</td>\n      <td>0.0</td>\n      <td>...</td>\n      <td>0.0</td>\n      <td>0.0</td>\n      <td>0.0</td>\n      <td>1.0</td>\n      <td>0.0</td>\n      <td>0.0</td>\n      <td>3.0</td>\n      <td>0.0</td>\n      <td>0.0</td>\n      <td>1.0</td>\n    </tr>\n    <tr>\n      <th>758-704</th>\n      <td>0.0</td>\n      <td>0.0</td>\n      <td>0.0</td>\n      <td>0.0</td>\n      <td>0.0</td>\n      <td>0.0</td>\n      <td>0.0</td>\n      <td>0.0</td>\n      <td>0.0</td>\n      <td>0.0</td>\n      <td>...</td>\n      <td>0.0</td>\n      <td>0.0</td>\n      <td>0.0</td>\n      <td>0.0</td>\n      <td>0.0</td>\n      <td>0.0</td>\n      <td>1.0</td>\n      <td>0.0</td>\n      <td>0.0</td>\n      <td>0.0</td>\n    </tr>\n    <tr>\n      <th>...</th>\n      <td>...</td>\n      <td>...</td>\n      <td>...</td>\n      <td>...</td>\n      <td>...</td>\n      <td>...</td>\n      <td>...</td>\n      <td>...</td>\n      <td>...</td>\n      <td>...</td>\n      <td>...</td>\n      <td>...</td>\n      <td>...</td>\n      <td>...</td>\n      <td>...</td>\n      <td>...</td>\n      <td>...</td>\n      <td>...</td>\n      <td>...</td>\n      <td>...</td>\n      <td>...</td>\n    </tr>\n    <tr>\n      <th>814-683</th>\n      <td>0.0</td>\n      <td>0.0</td>\n      <td>0.0</td>\n      <td>0.0</td>\n      <td>0.0</td>\n      <td>0.0</td>\n      <td>0.0</td>\n      <td>0.0</td>\n      <td>0.0</td>\n      <td>0.0</td>\n      <td>...</td>\n      <td>0.0</td>\n      <td>0.0</td>\n      <td>0.0</td>\n      <td>0.0</td>\n      <td>0.0</td>\n      <td>0.0</td>\n      <td>0.0</td>\n      <td>0.0</td>\n      <td>0.0</td>\n      <td>0.0</td>\n    </tr>\n    <tr>\n      <th>783-671</th>\n      <td>0.0</td>\n      <td>0.0</td>\n      <td>0.0</td>\n      <td>0.0</td>\n      <td>0.0</td>\n      <td>0.0</td>\n      <td>0.0</td>\n      <td>0.0</td>\n      <td>0.0</td>\n      <td>0.0</td>\n      <td>...</td>\n      <td>0.0</td>\n      <td>0.0</td>\n      <td>0.0</td>\n      <td>1.0</td>\n      <td>0.0</td>\n      <td>0.0</td>\n      <td>1.0</td>\n      <td>0.0</td>\n      <td>0.0</td>\n      <td>0.0</td>\n    </tr>\n    <tr>\n      <th>810-676</th>\n      <td>0.0</td>\n      <td>1.0</td>\n      <td>0.0</td>\n      <td>1.0</td>\n      <td>0.0</td>\n      <td>0.0</td>\n      <td>0.0</td>\n      <td>0.0</td>\n      <td>0.0</td>\n      <td>0.0</td>\n      <td>...</td>\n      <td>0.0</td>\n      <td>0.0</td>\n      <td>0.0</td>\n      <td>0.0</td>\n      <td>0.0</td>\n      <td>0.0</td>\n      <td>3.0</td>\n      <td>0.0</td>\n      <td>0.0</td>\n      <td>0.0</td>\n    </tr>\n    <tr>\n      <th>767-668</th>\n      <td>0.0</td>\n      <td>0.0</td>\n      <td>0.0</td>\n      <td>0.0</td>\n      <td>0.0</td>\n      <td>2.0</td>\n      <td>1.0</td>\n      <td>0.0</td>\n      <td>0.0</td>\n      <td>0.0</td>\n      <td>...</td>\n      <td>0.0</td>\n      <td>0.0</td>\n      <td>0.0</td>\n      <td>2.0</td>\n      <td>0.0</td>\n      <td>0.0</td>\n      <td>6.0</td>\n      <td>0.0</td>\n      <td>0.0</td>\n      <td>1.0</td>\n    </tr>\n    <tr>\n      <th>812-659</th>\n      <td>0.0</td>\n      <td>0.0</td>\n      <td>0.0</td>\n      <td>0.0</td>\n      <td>0.0</td>\n      <td>0.0</td>\n      <td>0.0</td>\n      <td>0.0</td>\n      <td>2.0</td>\n      <td>0.0</td>\n      <td>...</td>\n      <td>0.0</td>\n      <td>0.0</td>\n      <td>0.0</td>\n      <td>0.0</td>\n      <td>0.0</td>\n      <td>0.0</td>\n      <td>0.0</td>\n      <td>0.0</td>\n      <td>0.0</td>\n      <td>1.0</td>\n    </tr>\n  </tbody>\n</table>\n<p>99 rows × 28553 columns</p>\n</div>"
     },
     "metadata": {},
     "output_type": "execute_result",
     "execution_count": 5
    }
   ],
   "source": [
    "data\n"
   ],
   "metadata": {
    "collapsed": false,
    "pycharm": {
     "name": "#%%\n",
     "is_executing": false
    }
   }
  }
 ],
 "metadata": {
  "kernelspec": {
   "display_name": "Python 3",
   "language": "python",
   "name": "python3"
  },
  "language_info": {
   "codemirror_mode": {
    "name": "ipython",
    "version": 2
   },
   "file_extension": ".py",
   "mimetype": "text/x-python",
   "name": "python",
   "nbconvert_exporter": "python",
   "pygments_lexer": "ipython2",
   "version": "2.7.6"
  },
  "pycharm": {
   "stem_cell": {
    "cell_type": "raw",
    "source": [],
    "metadata": {
     "collapsed": false
    }
   }
  }
 },
 "nbformat": 4,
 "nbformat_minor": 0
}